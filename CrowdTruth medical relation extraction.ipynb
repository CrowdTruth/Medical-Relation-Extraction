{
 "cells": [
  {
   "cell_type": "markdown",
   "metadata": {},
   "source": [
    "# CrowdTruth medical relation extraction\n",
    "\n",
    "NLP often relies on the development of a set of gold standard annotations, or *ground truth*, for the purpose of training, testing and evaluation. *Distant supervision* [1] is a helpful solution that has given linked data sets a lot of attention in NLP, however the data can be noisy. Human annotators can help to clean up this noise, however for Clinical NLP domain knowledge is usually believed to be required from annotators, making the process for acquiring ground truth more difficult. In addition, current methods for collecting annotation attempt to minimize disagreement between annotators, and therefore fail to model the ambiguity inherent in language. The lack of annotated datasets for training and benchmarking is therefore one of the main challenges of Clinical Natural Language Processing.\n",
    "\n",
    "We propose the **[CrowdTruth](http://crowdtruth.org/)** method for collecting medical ground truth through crowdsourcing, based on the observation that disagreement between annotators can be used to capture ambiguity in text. This repository contains a ground truth corpus for medical relation extraction, acquired with crowdsourcing and processed with **[CrowdTruth](http://crowdtruth.org/)** metrics.\n",
    "\n",
    "Download the data from GitHub: [Medical-Relation-Extraction](https://github.com/CrowdTruth/Medical-Relation-Extraction/).\n",
    "\n",
    "More details about the corpus can be found in the papers:\n",
    "\n",
    "* Anca Dumitrache, Lora Aroyo, Chris Welty: **[CrowdTruth Measures for Language Ambiguity: The Case of Medical Relation Extraction](http://www.ancad.ro/2015/09/01/crowdtruth-measures-for-language-ambiguity)**. [LD4IE](http://oak.dcs.shef.ac.uk/ld4ie2015/LD4IE2015/Overview.html) at [ISWC 2015](http://iswc2015.semanticweb.org/).\n",
    "* Anca Dumitrache, Lora Aroyo, Chris Welty: **[Achieving Expert-Level Annotation Quality with CrowdTruth: The Case of Medical Relation Extraction](http://www.ancad.ro/2015/08/14/achieving-expert-level-annotation-quality-with-crowdtruth/)**. [BDM2I](https://sbmi.uth.edu/ontology/bdm2i.htm) at [ISWC 2015](http://iswc2015.semanticweb.org/).\n",
    "\n",
    "## Data\n",
    "\n",
    "The dataset used in our experiments contains 902 medical sentences extracted from PubMed article abstracts. The MetaMap parser [2] ran over the corpus to identify medical terms from the UMLS vocabulary [3]. Distant supervision [1] was used to select sentences with pairs of terms that are linked in UMLS by one of our chosen seed medical relations. The intuition of distant supervision is that since we know the terms are related, and they are in the same sentence, it is more likely that the sentence expresses a relation between them. The seed relations were restricted to a set of eleven UMLS relations important for clinical decision making.\n",
    "\n",
    "For collecting annotations from medical experts, we employed medical students, in their third year at American universities, that had just taken United States Medical Licensing Examination (USMLE) and were waiting for their results. Each sentence was annotated by exactly one person. The annotation task consisted of deciding whether or not the UMLS seed relation discovered by distant supervision is present in the sentence for the two selected terms.\n",
    "\n",
    "## Crowdsourcing\n",
    "\n",
    "![Fig.1: CrowdTruth Workflow for Medical Relation Extraction on CrowdFlower.](img/task_workflow_2.png)\n",
    "\n",
    "The crowdsourced annotation is performed in a workflow of three tasks. The sentences were pre-processed to determine whether the terms found with distant supervision are complete or not; identifying complete medical terms is difficult, and the automated method left a number of terms still incomplete, which was a significant source of error for the crowd in subsequent stages, so the incomplete terms were sent through a crowdsourcing task (*FactSpan*) in order to get the full word span of the medical terms. Next, the sentences with the corrected term spans were sent to a relation extraction task (*RelEx*), where the crowd was asked to decide which relation holds between the two extracted terms. The workers were able to read the definition of each relation, and could choose any number of relations per sentence. Finally, the results from *RelEx* were passed to another crowdsourcing task (*RelDir*) to determine the direction of the relation with regards to the two extracted terms. (*FactSpan* and *RelDir*) were added to the basic *RelEx* task to correct the most common sources of errors from the crowd.\n",
    "\n",
    "## Relation extraction classifier\n",
    "\n",
    "The sentences together with the relation annotations were then used to train a manifold model for relation extraction [4]. This model was developed for the medical domain, and tested for the relation set that we employ. It is trained per individual relation, by feeding it both positive and negative data. It offers support for both discrete labels, and real values for weighting the confidence of the training data entries, with positive values in (0,1], and negative values in [-1,0). \n",
    "\n",
    "\n",
    "## Dataset files\n",
    "\n",
    "```\n",
    "|--cause_relation_ground_truth.csv\n",
    "```\n",
    "This file contains the processed ground truth for the medical *cause* relation, in comma-separated format. The columns are:\n",
    "* *Sent_id*: unique ID of the data entry\n",
    "* *sentence*: medical sentence\n",
    "* *term1, term2*: the 2 medical terms after correction with *FactSpan* and *RelDir*; together, they express the relation: ```term1 cause of term2```\n",
    "* *b1, b2*: the beginning position of each term in the sentence\n",
    "* *e1, e2*: the end position of each term in the sentence\n",
    "* *senrel_score*: the sentence relation score of the *cause* relation; using cosine similarity over the aggregated crowd data, it computes the likelihood that *cause* is expressed between the 2 terms in the sentence\n",
    "* *crowd*: the score used to train the relation extraction classifier with crowd data; it is the sentence-relation score, with a threshold to select positive and negative examples equal to 0.5, and rescaled in [0.85, 1] for positives, and [-1, -0.85] for negatives.\n",
    "* *single*: discrete labels for every sentence are taken from one randomly selected crowd worker who annotated the sentence.\n",
    "* *baseline*: discrete (positive or negative) labels are given for each sentence by the distant supervision [1] method\n",
    "* *expert*: discrete labels based on an expert’s judgment as to whether the *baseline* label is correct\n",
    "* *test_eval*: manual evaluation scores over the sentences where *crowd* and *expert* disagreed, used for evaluating the classifier; the sentence-relation score threshold was set at 0.7 for maximum agreement; sentences scored with 0 were determined to be ambiguous and were removed from testing\n",
    "* *distant supervision term 1, distant supervision term 2*: the original terms as extracted by distant supervision, before correction with *FactSpan*\n",
    "* *UMLS seed relation*: the UMLS [4] relation used as a seed in distant supervision to find the given entry\n",
    "\n",
    "```\n",
    "|--/raw\n",
    "| |--/FactSpan\n",
    "| |--/RelEx\n",
    "| |--/RelDir\n",
    "```\n",
    "The raw data collected from crowdsourcing for each of the 3 tasks."
   ]
  },
  {
   "cell_type": "markdown",
   "metadata": {},
   "source": [
    "## Results"
   ]
  },
  {
   "cell_type": "code",
   "execution_count": 1,
   "metadata": {
    "collapsed": false
   },
   "outputs": [],
   "source": [
    "import pandas as pd\n",
    "import numpy as np\n",
    "import matplotlib.pyplot as plt\n",
    "%matplotlib inline\n",
    "\n",
    "ground_truth = pd.read_csv(\"cause_relation_ground_truth.csv\")"
   ]
  },
  {
   "cell_type": "markdown",
   "metadata": {},
   "source": [
    "### Crowd and expert agreement per negative/positive threshold for cause."
   ]
  },
  {
   "cell_type": "code",
   "execution_count": 2,
   "metadata": {
    "collapsed": false
   },
   "outputs": [
    {
     "data": {
      "text/plain": [
       "<matplotlib.text.Text at 0x7f54d295f350>"
      ]
     },
     "execution_count": 2,
     "metadata": {},
     "output_type": "execute_result"
    },
    {
     "data": {
      "image/png": "[encoded data removed]",
      "text/plain": [
       "<matplotlib.figure.Figure at 0x7f54a1f7c090>"
      ]
     },
     "metadata": {},
     "output_type": "display_data"
    }
   ],
   "source": [
    "crowd_exp_agr = np.zeros(shape=(9, 2))\n",
    "\n",
    "for idx in range(1, 10):\n",
    "    thresh = idx / 10.0\n",
    "    sent_in_agr = sum(((ground_truth['senrel_score'] >= thresh) & (ground_truth['expert'] > 0)) |\n",
    "                      ((ground_truth['senrel_score'] < thresh) & (ground_truth['expert'] < 0)))\n",
    "    crowd_exp_agr[idx - 1, 0] = thresh\n",
    "    crowd_exp_agr[idx - 1, 1] = sent_in_agr\n",
    "\n",
    "plt.plot(crowd_exp_agr[:,0], crowd_exp_agr[:,1], lw = 2)\n",
    "plt.xlim(0.1,0.9)\n",
    "\n",
    "max_thresh = np.argmax(crowd_exp_agr[:, 1])\n",
    "plt.axvline(x = crowd_exp_agr[max_thresh, 0], color = 'r', ls = ':')\n",
    "plt.axhline(y = crowd_exp_agr[max_thresh, 1], color = 'r', ls = ':')\n",
    "\n",
    "plt.ylabel('# sentences where crowd & expert agree')\n",
    "plt.xlabel('neg/pos sentence-relation score')"
   ]
  },
  {
   "cell_type": "markdown",
   "metadata": {},
   "source": [
    "### Annotation quality F1 per negative/positive threshold for cause.\n",
    "\n",
    "This measure was computed prior to any classifier training, by using the manually evaluated scores (the *test_eval* column in the data file) as a gold standard."
   ]
  },
  {
   "cell_type": "code",
   "execution_count": 4,
   "metadata": {
    "collapsed": false
   },
   "outputs": [
    {
     "data": {
      "text/plain": [
       "<matplotlib.legend.Legend at 0x7f54a1c7d610>"
      ]
     },
     "execution_count": 4,
     "metadata": {},
     "output_type": "execute_result"
    },
    {
     "data": {
      "image/png": "[encoded data removed]",
      "text/plain": [
       "<matplotlib.figure.Figure at 0x7f54a1d91610>"
      ]
     },
     "metadata": {},
     "output_type": "display_data"
    }
   ],
   "source": [
    "def f1_score(pred, gold):\n",
    "    tp = 0\n",
    "    fp = 0\n",
    "    tn = 0\n",
    "    fn = 0\n",
    "    for idx in range(0, len(pred)):\n",
    "        if gold[idx] != 0:\n",
    "            if pred[idx] > 0 and gold[idx] > 0:\n",
    "                tp += 1.0\n",
    "            elif pred[idx] > 0 and gold[idx] < 0:\n",
    "                fp += 1.0\n",
    "            elif pred[idx] < 0 and gold[idx] < 0:\n",
    "                tn += 1.0\n",
    "            else:\n",
    "                fn += 1.0\n",
    "    \n",
    "    return 2.0 * tp / (2.0 * tp + fp + fn)\n",
    "\n",
    "\n",
    "test_partition = ground_truth['test_eval']\n",
    "for idx in range(0, len(test_partition)):\n",
    "    if np.isnan(test_partition[idx]):\n",
    "        test_partition[idx] = ground_truth['expert'][idx]\n",
    "\n",
    "crowd_ann_quality_f1 = np.zeros(shape=(9, 2))\n",
    "for idx in range(1, 10):\n",
    "    thresh = idx / 10.0\n",
    "    crowd_score = (ground_truth['senrel_score'] >= thresh) * 2 - 1\n",
    "    crowd_ann_quality_f1[idx - 1, 0] = thresh\n",
    "    crowd_ann_quality_f1[idx - 1, 1] = f1_score(crowd_score, test_partition)\n",
    "\n",
    "plt.plot(crowd_ann_quality_f1[:,0], crowd_ann_quality_f1[:,1], color = 'g', lw = 2, label = \"crowd\")\n",
    "plt.xlim(0.1,0.9)\n",
    "\n",
    "plt.axhline(y = f1_score(ground_truth['baseline'].copy(), test_partition),\n",
    "            color = 'darksalmon', lw = 2, label = \"baseline\")\n",
    "plt.axhline(y = f1_score(ground_truth['expert'].copy(),test_partition),\n",
    "            color = 'b', lw = 2, label = \"expert\")\n",
    "plt.axhline(y = f1_score(ground_truth['single'].copy(), test_partition),\n",
    "            color = 'purple', lw = 2, label = \"single\")\n",
    "\n",
    "max_thresh = np.argmax(crowd_ann_quality_f1[:, 1])\n",
    "plt.axvline(x = crowd_ann_quality_f1[max_thresh, 0], color = 'r', ls = ':')\n",
    "plt.axhline(y = crowd_ann_quality_f1[max_thresh, 1], color = 'r', ls = ':')\n",
    "\n",
    "plt.ylabel('annotation quality F1 score')\n",
    "plt.xlabel('neg/pos sentence-relation score')\n",
    "plt.legend(bbox_to_anchor=(1.05, 1), loc=2, borderaxespad=0.)"
   ]
  },
  {
   "cell_type": "markdown",
   "metadata": {},
   "source": [
    "### Classifier evaluation results"
   ]
  },
  {
   "cell_type": "code",
   "execution_count": 5,
   "metadata": {
    "collapsed": false
   },
   "outputs": [
    {
     "data": {
      "text/html": [
       "<div style=\"max-height:1000px;max-width:1500px;overflow:auto;\">\n",
       "<table border=\"1\" class=\"dataframe\">\n",
       "  <thead>\n",
       "    <tr style=\"text-align: right;\">\n",
       "      <th></th>\n",
       "      <th>dataset</th>\n",
       "      <th>P</th>\n",
       "      <th>R</th>\n",
       "      <th>F1</th>\n",
       "      <th>Accuracy</th>\n",
       "    </tr>\n",
       "  </thead>\n",
       "  <tbody>\n",
       "    <tr>\n",
       "      <th>0 </th>\n",
       "      <td> crowd 0.1 neg/pos threshold</td>\n",
       "      <td> 0.353604</td>\n",
       "      <td> 0.959996</td>\n",
       "      <td> 0.516285</td>\n",
       "      <td> 0.529470</td>\n",
       "    </tr>\n",
       "    <tr>\n",
       "      <th>1 </th>\n",
       "      <td> crowd 0.2 neg/pos threshold</td>\n",
       "      <td> 0.451638</td>\n",
       "      <td> 0.902775</td>\n",
       "      <td> 0.600743</td>\n",
       "      <td> 0.685901</td>\n",
       "    </tr>\n",
       "    <tr>\n",
       "      <th>2 </th>\n",
       "      <td> crowd 0.3 neg/pos threshold</td>\n",
       "      <td> 0.504475</td>\n",
       "      <td> 0.848493</td>\n",
       "      <td> 0.631943</td>\n",
       "      <td> 0.741597</td>\n",
       "    </tr>\n",
       "    <tr>\n",
       "      <th>3 </th>\n",
       "      <td> crowd 0.4 neg/pos threshold</td>\n",
       "      <td> 0.531107</td>\n",
       "      <td> 0.765930</td>\n",
       "      <td> 0.625611</td>\n",
       "      <td> 0.755612</td>\n",
       "    </tr>\n",
       "    <tr>\n",
       "      <th>4 </th>\n",
       "      <td> crowd 0.5 neg/pos threshold</td>\n",
       "      <td> 0.565439</td>\n",
       "      <td> 0.743213</td>\n",
       "      <td> 0.642031</td>\n",
       "      <td> 0.784087</td>\n",
       "    </tr>\n",
       "    <tr>\n",
       "      <th>5 </th>\n",
       "      <td> crowd 0.6 neg/pos threshold</td>\n",
       "      <td> 0.604395</td>\n",
       "      <td> 0.680387</td>\n",
       "      <td> 0.636557</td>\n",
       "      <td> 0.803436</td>\n",
       "    </tr>\n",
       "    <tr>\n",
       "      <th>6 </th>\n",
       "      <td> crowd 0.7 neg/pos threshold</td>\n",
       "      <td> 0.619955</td>\n",
       "      <td> 0.610733</td>\n",
       "      <td> 0.613310</td>\n",
       "      <td> 0.800969</td>\n",
       "    </tr>\n",
       "    <tr>\n",
       "      <th>7 </th>\n",
       "      <td> crowd 0.8 neg/pos threshold</td>\n",
       "      <td> 0.635180</td>\n",
       "      <td> 0.476502</td>\n",
       "      <td> 0.540332</td>\n",
       "      <td> 0.791950</td>\n",
       "    </tr>\n",
       "    <tr>\n",
       "      <th>8 </th>\n",
       "      <td> crowd 0.9 neg/pos threshold</td>\n",
       "      <td> 0.694369</td>\n",
       "      <td> 0.375856</td>\n",
       "      <td> 0.481487</td>\n",
       "      <td> 0.793094</td>\n",
       "    </tr>\n",
       "    <tr>\n",
       "      <th>9 </th>\n",
       "      <td>                      expert</td>\n",
       "      <td> 0.672085</td>\n",
       "      <td> 0.604660</td>\n",
       "      <td> 0.638103</td>\n",
       "      <td> 0.818652</td>\n",
       "    </tr>\n",
       "    <tr>\n",
       "      <th>10</th>\n",
       "      <td>                      single</td>\n",
       "      <td> 0.495836</td>\n",
       "      <td> 0.473176</td>\n",
       "      <td> 0.483020</td>\n",
       "      <td> 0.737693</td>\n",
       "    </tr>\n",
       "    <tr>\n",
       "      <th>11</th>\n",
       "      <td>                    baseline</td>\n",
       "      <td> 0.436350</td>\n",
       "      <td> 0.844922</td>\n",
       "      <td> 0.575372</td>\n",
       "      <td> 0.674717</td>\n",
       "    </tr>\n",
       "  </tbody>\n",
       "</table>\n",
       "</div>"
      ],
      "text/plain": [
       "                        dataset         P         R        F1  Accuracy\n",
       "0   crowd 0.1 neg/pos threshold  0.353604  0.959996  0.516285  0.529470\n",
       "1   crowd 0.2 neg/pos threshold  0.451638  0.902775  0.600743  0.685901\n",
       "2   crowd 0.3 neg/pos threshold  0.504475  0.848493  0.631943  0.741597\n",
       "3   crowd 0.4 neg/pos threshold  0.531107  0.765930  0.625611  0.755612\n",
       "4   crowd 0.5 neg/pos threshold  0.565439  0.743213  0.642031  0.784087\n",
       "5   crowd 0.6 neg/pos threshold  0.604395  0.680387  0.636557  0.803436\n",
       "6   crowd 0.7 neg/pos threshold  0.619955  0.610733  0.613310  0.800969\n",
       "7   crowd 0.8 neg/pos threshold  0.635180  0.476502  0.540332  0.791950\n",
       "8   crowd 0.9 neg/pos threshold  0.694369  0.375856  0.481487  0.793094\n",
       "9                        expert  0.672085  0.604660  0.638103  0.818652\n",
       "10                       single  0.495836  0.473176  0.483020  0.737693\n",
       "11                     baseline  0.436350  0.844922  0.575372  0.674717"
      ]
     },
     "execution_count": 5,
     "metadata": {},
     "output_type": "execute_result"
    }
   ],
   "source": [
    "classifier_results = pd.read_csv(\"aggregate/classifier_results.csv\")\n",
    "classifier_results"
   ]
  },
  {
   "cell_type": "code",
   "execution_count": 6,
   "metadata": {
    "collapsed": false
   },
   "outputs": [
    {
     "data": {
      "text/plain": [
       "<matplotlib.legend.Legend at 0x7f54a1b7cfd0>"
      ]
     },
     "execution_count": 6,
     "metadata": {},
     "output_type": "execute_result"
    },
    {
     "data": {
      "image/png": "[encoded data removed]",
      "text/plain": [
       "<matplotlib.figure.Figure at 0x7f54a1eb8f50>"
      ]
     },
     "metadata": {},
     "output_type": "display_data"
    }
   ],
   "source": [
    "plt.plot([x / 10.0 for x in range(1, 10)], classifier_results[\"F1\"][range(0,9)],\n",
    "         color = 'g', lw = 2, label = \"crowd\")\n",
    "plt.xlim(0.1, 0.9)\n",
    "plt.ylim(0.45, 0.67)\n",
    "\n",
    "plt.axhline(y = classifier_results[\"F1\"][11],\n",
    "            color = 'darksalmon', lw = 2, label = \"baseline\")\n",
    "plt.axhline(y = classifier_results[\"F1\"][9],\n",
    "            color = 'b', lw = 2, label = \"expert\")\n",
    "plt.axhline(y = classifier_results[\"F1\"][10],\n",
    "            color = 'purple', lw = 2, label = \"single\")\n",
    "\n",
    "plt.axvline(x = 0.5, color = 'r', ls = ':')\n",
    "plt.axhline(y = classifier_results[\"F1\"][4], color = 'r', ls = ':')\n",
    "\n",
    "plt.ylabel('classifier evaluation F1 score')\n",
    "plt.xlabel('neg/pos sentence-relation score')\n",
    "plt.legend(bbox_to_anchor=(1.05, 1), loc=2, borderaxespad=0.)"
   ]
  },
  {
   "cell_type": "markdown",
   "metadata": {},
   "source": [
    "### Learning curves"
   ]
  },
  {
   "cell_type": "code",
   "execution_count": 7,
   "metadata": {
    "collapsed": false
   },
   "outputs": [
    {
     "data": {
      "text/html": [
       "<div style=\"max-height:1000px;max-width:1500px;overflow:auto;\">\n",
       "<table border=\"1\" class=\"dataframe\">\n",
       "  <thead>\n",
       "    <tr style=\"text-align: right;\">\n",
       "      <th></th>\n",
       "      <th>sentences</th>\n",
       "      <th>crowd 0.5</th>\n",
       "      <th>expert</th>\n",
       "      <th>single</th>\n",
       "      <th>baseline</th>\n",
       "    </tr>\n",
       "  </thead>\n",
       "  <tbody>\n",
       "    <tr>\n",
       "      <th>0</th>\n",
       "      <td> 100</td>\n",
       "      <td> 0.418969</td>\n",
       "      <td> 0.399480</td>\n",
       "      <td> 0.362405</td>\n",
       "      <td> 0.400351</td>\n",
       "    </tr>\n",
       "    <tr>\n",
       "      <th>1</th>\n",
       "      <td> 200</td>\n",
       "      <td> 0.468266</td>\n",
       "      <td> 0.533300</td>\n",
       "      <td> 0.394047</td>\n",
       "      <td> 0.479602</td>\n",
       "    </tr>\n",
       "    <tr>\n",
       "      <th>2</th>\n",
       "      <td> 300</td>\n",
       "      <td> 0.507137</td>\n",
       "      <td> 0.535282</td>\n",
       "      <td> 0.425924</td>\n",
       "      <td> 0.525753</td>\n",
       "    </tr>\n",
       "    <tr>\n",
       "      <th>3</th>\n",
       "      <td> 400</td>\n",
       "      <td> 0.550221</td>\n",
       "      <td> 0.563789</td>\n",
       "      <td> 0.414762</td>\n",
       "      <td> 0.542093</td>\n",
       "    </tr>\n",
       "    <tr>\n",
       "      <th>4</th>\n",
       "      <td> 500</td>\n",
       "      <td> 0.578371</td>\n",
       "      <td> 0.599502</td>\n",
       "      <td> 0.435369</td>\n",
       "      <td> 0.573187</td>\n",
       "    </tr>\n",
       "    <tr>\n",
       "      <th>5</th>\n",
       "      <td> 600</td>\n",
       "      <td> 0.631057</td>\n",
       "      <td> 0.620284</td>\n",
       "      <td> 0.454875</td>\n",
       "      <td> 0.582943</td>\n",
       "    </tr>\n",
       "    <tr>\n",
       "      <th>6</th>\n",
       "      <td> 720</td>\n",
       "      <td> 0.642031</td>\n",
       "      <td> 0.638103</td>\n",
       "      <td> 0.483020</td>\n",
       "      <td> 0.575372</td>\n",
       "    </tr>\n",
       "  </tbody>\n",
       "</table>\n",
       "</div>"
      ],
      "text/plain": [
       "   sentences  crowd 0.5    expert    single  baseline\n",
       "0        100   0.418969  0.399480  0.362405  0.400351\n",
       "1        200   0.468266  0.533300  0.394047  0.479602\n",
       "2        300   0.507137  0.535282  0.425924  0.525753\n",
       "3        400   0.550221  0.563789  0.414762  0.542093\n",
       "4        500   0.578371  0.599502  0.435369  0.573187\n",
       "5        600   0.631057  0.620284  0.454875  0.582943\n",
       "6        720   0.642031  0.638103  0.483020  0.575372"
      ]
     },
     "execution_count": 7,
     "metadata": {},
     "output_type": "execute_result"
    }
   ],
   "source": [
    "f1_learning_curves = pd.read_csv(\"aggregate/f1_learning_curves.csv\")\n",
    "f1_learning_curves"
   ]
  },
  {
   "cell_type": "code",
   "execution_count": 8,
   "metadata": {
    "collapsed": false
   },
   "outputs": [
    {
     "data": {
      "text/plain": [
       "<matplotlib.legend.Legend at 0x7f54a1addd90>"
      ]
     },
     "execution_count": 8,
     "metadata": {},
     "output_type": "execute_result"
    },
    {
     "data": {
      "image/png": "[encoded data removed]",
      "text/plain": [
       "<matplotlib.figure.Figure at 0x7f54a1b63550>"
      ]
     },
     "metadata": {},
     "output_type": "display_data"
    }
   ],
   "source": [
    "plt.plot(f1_learning_curves['sentences'], f1_learning_curves['crowd 0.5'],\n",
    "         color = 'g', lw = 2, label = \"crowd with pos./neg. threshold at 0.5\")\n",
    "plt.xlim(f1_learning_curves['sentences'][0], f1_learning_curves['sentences'][6])\n",
    "\n",
    "plt.plot(f1_learning_curves['sentences'], f1_learning_curves['expert'],\n",
    "         color = 'b', lw = 2, label = \"expert\")\n",
    "plt.plot(f1_learning_curves['sentences'], f1_learning_curves['baseline'],\n",
    "         color = 'darksalmon', lw = 2, label = \"baseline\")\n",
    "plt.plot(f1_learning_curves['sentences'], f1_learning_curves['single'],\n",
    "         color = 'purple', lw = 2, label = \"single\")\n",
    "\n",
    "plt.ylabel('F1 score learning curves')\n",
    "plt.xlabel('# sentences in training set')\n",
    "plt.legend(bbox_to_anchor=(1.05, 1), loc=2, borderaxespad=0.)"
   ]
  }
 ],
 "metadata": {
  "kernelspec": {
   "display_name": "Python 2",
   "language": "python",
   "name": "python2"
  },
  "language_info": {
   "codemirror_mode": {
    "name": "ipython",
    "version": 2
   },
   "file_extension": ".py",
   "mimetype": "text/x-python",
   "name": "python",
   "nbconvert_exporter": "python",
   "pygments_lexer": "ipython2",
   "version": "2.7.10"
  }
 },
 "nbformat": 4,
 "nbformat_minor": 0
}
