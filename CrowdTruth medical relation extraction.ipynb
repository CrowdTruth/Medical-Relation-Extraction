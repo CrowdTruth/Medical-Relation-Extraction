{
 "cells": [
  {
   "cell_type": "markdown",
   "metadata": {},
   "source": [
    "# CrowdTruth medical relation extraction\n",
    "\n",
    "NLP often relies on the development of a set of gold standard annotations, or *ground truth*, for the purpose of training, testing and evaluation. *Distant supervision* [1] is a helpful solution that has given linked data sets a lot of attention in NLP, however the data can be noisy. Human annotators can help to clean up this noise, however for Clinical NLP domain knowledge is usually believed to be required from annotators, making the process for acquiring ground truth more difficult. In addition, current methods for collecting annotation attempt to minimize disagreement between annotators, and therefore fail to model the ambiguity inherent in language. The lack of annotated datasets for training and benchmarking is therefore one of the main challenges of Clinical Natural Language Processing.\n",
    "\n",
    "We propose the **[CrowdTruth](http://crowdtruth.org/)** method for collecting medical ground truth through crowdsourcing, based on the observation that disagreement between annotators can be used to capture ambiguity in text. This repository contains a ground truth corpus for medical relation extraction, acquired with crowdsourcing and processed with **[CrowdTruth](http://crowdtruth.org/)** metrics.\n",
    "\n",
    "Download the data here: [Medical-Relation-Extraction.zip](https://github.com/CrowdTruth/Medical-Relation-Extraction/archive/master.zip).\n",
    "\n",
    "More details about the corpus can be found in the papers:\n",
    "\n",
    "* Anca Dumitrache, Lora Aroyo, Chris Welty: **[CrowdTruth Measures for Language Ambiguity: The Case of Medical Relation Extraction](http://www.ancad.ro/2015/09/01/crowdtruth-measures-for-language-ambiguity)**. [LD4IE](http://oak.dcs.shef.ac.uk/ld4ie2015/LD4IE2015/Overview.html) at [ISWC 2015](http://iswc2015.semanticweb.org/).\n",
    "* Anca Dumitrache, Lora Aroyo, Chris Welty: **[Achieving Expert-Level Annotation Quality with CrowdTruth: The Case of Medical Relation Extraction](http://www.ancad.ro/2015/08/14/achieving-expert-level-annotation-quality-with-crowdtruth/)**. [BDM2I](https://sbmi.uth.edu/ontology/bdm2i.htm) at [ISWC 2015](http://iswc2015.semanticweb.org/).\n",
    "\n",
    "## Data\n",
    "\n",
    "The dataset used in our experiments contains 902 medical sentences extracted from PubMed article abstracts. The MetaMap parser [2] ran over the corpus to identify medical terms from the UMLS vocabulary [3]. Distant supervision [1] was used to select sentences with pairs of terms that are linked in UMLS by one of our chosen seed medical relations. The intuition of distant supervision is that since we know the terms are related, and they are in the same sentence, it is more likely that the sentence expresses a relation between them. The seed relations were restricted to a set of eleven UMLS relations important for clinical decision making.\n",
    "\n",
    "For collecting annotations from medical experts, we employed medical students, in their third year at American universities, that had just taken United States Medical Licensing Examination (USMLE) and were waiting for their results. Each sentence was annotated by exactly one person. The annotation task consisted of deciding whether or not the UMLS seed relation discovered by distant supervision is present in the sentence for the two selected terms.\n",
    "\n",
    "## Crowdsourcing\n",
    "\n",
    "![Fig.1: CrowdTruth Workflow for Medical Relation Extraction on CrowdFlower.](http://www.ancad.ro/wp-content/uploads/2015/08/task_workflow_2.png)\n",
    "\n",
    "The crowdsourced annotation is performed in a workflow of three tasks. The sentences were pre-processed to determine whether the terms found with distant supervision are complete or not; identifying complete medical terms is difficult, and the automated method left a number of terms still incomplete, which was a significant source of error for the crowd in subsequent stages, so the incomplete terms were sent through a crowdsourcing task (*FactSpan*) in order to get the full word span of the medical terms. Next, the sentences with the corrected term spans were sent to a relation extraction task (*RelEx*), where the crowd was asked to decide which relation holds between the two extracted terms. The workers were able to read the definition of each relation, and could choose any number of relations per sentence. Finally, the results from *RelEx* were passed to another crowdsourcing task (*RelDir*) to determine the direction of the relation with regards to the two extracted terms. (*FactSpan* and *RelDir*) were added to the basic *RelEx* task to correct the most common sources of errors from the crowd.\n",
    "\n",
    "## Relation extraction classifier\n",
    "\n",
    "The sentences together with the relation annotations were then used to train a manifold model for relation extraction [4]. This model was developed for the medical domain, and tested for the relation set that we employ. It is trained per individual relation, by feeding it both positive and negative data. It offers support for both discrete labels, and real values for weighting the confidence of the training data entries, with positive values in (0,1], and negative values in [-1,0). \n",
    "\n",
    "\n",
    "## Dataset files\n",
    "\n",
    "```\n",
    "|--cause_relation_ground_truth.csv\n",
    "```\n",
    "This file contains the processed ground truth for the medical *cause* relation, in comma-separated format. The columns are:\n",
    "* *Sent_id*: unique ID of the data entry\n",
    "* *sentence*: medical sentence\n",
    "* *term1, term2*: the 2 medical terms after correction with *FactSpan* and *RelDir*; together, they express the relation: ```term1 cause of term2```\n",
    "* *b1, b2*: the beginning position of each term in the sentence\n",
    "* *e1, e2*: the end position of each term in the sentence\n",
    "* *senrel_score*: the sentence relation score of the *cause* relation; using cosine similarity over the aggregated crowd data, it computes the likelihood that *cause* is expressed between the 2 terms in the sentence\n",
    "* *crowd*: the score used to train the relation extraction classifier with crowd data; it is the sentence-relation score, with a threshold to select positive and negative examples equal to 0.5, and rescaled in [0.85, 1] for positives, and [-1, -0.85] for negatives.\n",
    "* *single*: discrete labels for every sentence are taken from one randomly selected crowd worker who annotated the sentence.\n",
    "* *baseline*: discrete (positive or negative) labels are given for each sentence by the distant supervision [1] method\n",
    "* *expert*: discrete labels based on an expert’s judgment as to whether the *baseline* label is correct\n",
    "* *test_eval*: manual evaluation scores over the sentences where *crowd* and *expert* disagreed, used for evaluating the classifier; the sentence-relation score threshold was set at 0.7 for maximum agreement; sentences scored with 0 were determined to be ambiguous and were removed from testing\n",
    "* *distant supervision term 1, distant supervision term 2*: the original terms as extracted by distant supervision, before correction with *FactSpan*\n",
    "* *UMLS seed relation*: the UMLS [4] relation used as a seed in distant supervision to find the given entry\n",
    "\n",
    "```\n",
    "|--/raw\n",
    "| |--/FactSpan\n",
    "| |--/RelEx\n",
    "| |--/RelDir\n",
    "```\n",
    "The raw data collected from crowdsourcing for each of the 3 tasks."
   ]
  },
  {
   "cell_type": "markdown",
   "metadata": {},
   "source": [
    "## Results"
   ]
  },
  {
   "cell_type": "code",
   "execution_count": 1,
   "metadata": {
    "collapsed": false
   },
   "outputs": [],
   "source": [
    "import pandas as pd\n",
    "import numpy as np\n",
    "import matplotlib.pyplot as plt\n",
    "%matplotlib inline\n",
    "\n",
    "ground_truth = pd.read_csv(\"cause_relation_ground_truth.csv\")"
   ]
  },
  {
   "cell_type": "markdown",
   "metadata": {},
   "source": [
    "### Crowd and expert agreement per negative/positive threshold for cause."
   ]
  },
  {
   "cell_type": "code",
   "execution_count": 2,
   "metadata": {
    "collapsed": false
   },
   "outputs": [
    {
     "data": {
      "text/plain": [
       "<matplotlib.text.Text at 0x7f5eeb862350>"
      ]
     },
     "execution_count": 2,
     "metadata": {},
     "output_type": "execute_result"
    },
    {
     "data": {
      "image/png": "[encoded data removed]",
      "text/plain": [
       "<matplotlib.figure.Figure at 0x7f5ebae66090>"
      ]
     },
     "metadata": {},
     "output_type": "display_data"
    }
   ],
   "source": [
    "crowd_exp_agr = np.zeros(shape=(9, 2))\n",
    "\n",
    "for idx in range(1, 10):\n",
    "    thresh = idx / 10.0\n",
    "    sent_in_agr = sum(((ground_truth['senrel_score'] >= thresh) & (ground_truth['expert'] > 0)) |\n",
    "                      ((ground_truth['senrel_score'] < thresh) & (ground_truth['expert'] < 0)))\n",
    "    crowd_exp_agr[idx - 1, 0] = thresh\n",
    "    crowd_exp_agr[idx - 1, 1] = sent_in_agr\n",
    "\n",
    "plt.plot(crowd_exp_agr[:,0], crowd_exp_agr[:,1], lw = 2)\n",
    "plt.xlim(0.1,0.9)\n",
    "\n",
    "max_thresh = np.argmax(crowd_exp_agr[:, 1])\n",
    "plt.axvline(x = crowd_exp_agr[max_thresh, 0], color = 'r', ls = ':')\n",
    "plt.axhline(y = crowd_exp_agr[max_thresh, 1], color = 'r', ls = ':')\n",
    "\n",
    "plt.ylabel('# sentences where crowd & expert agree')\n",
    "plt.xlabel('neg/pos sentence-relation score')"
   ]
  },
  {
   "cell_type": "markdown",
   "metadata": {},
   "source": [
    "### Annotation quality F1 per negative/positive threshold for cause.\n",
    "\n",
    "This measure was computed prior to any classifier training, by using the manually evaluated scores (the *test_eval* column in the data file) as a gold standard."
   ]
  },
  {
   "cell_type": "code",
   "execution_count": 3,
   "metadata": {
    "collapsed": false
   },
   "outputs": [
    {
     "name": "stderr",
     "output_type": "stream",
     "text": [
      "/home/anca/.local/lib/python2.7/site-packages/IPython/kernel/__main__.py:23: SettingWithCopyWarning: \n",
      "A value is trying to be set on a copy of a slice from a DataFrame\n",
      "\n",
      "See the the caveats in the documentation: http://pandas.pydata.org/pandas-docs/stable/indexing.html#indexing-view-versus-copy\n"
     ]
    },
    {
     "data": {
      "text/plain": [
       "<matplotlib.legend.Legend at 0x7f5ebaccef50>"
      ]
     },
     "execution_count": 3,
     "metadata": {},
     "output_type": "execute_result"
    },
    {
     "data": {
      "image/png": "[encoded data removed]",
      "text/plain": [
       "<matplotlib.figure.Figure at 0x7f5ebad88c10>"
      ]
     },
     "metadata": {},
     "output_type": "display_data"
    }
   ],
   "source": [
    "def f1_score(pred, gold):\n",
    "    tp = 0\n",
    "    fp = 0\n",
    "    tn = 0\n",
    "    fn = 0\n",
    "    for idx in range(0, len(pred)):\n",
    "        if gold[idx] != 0:\n",
    "            if pred[idx] > 0 and gold[idx] > 0:\n",
    "                tp += 1.0\n",
    "            elif pred[idx] > 0 and gold[idx] < 0:\n",
    "                fp += 1.0\n",
    "            elif pred[idx] < 0 and gold[idx] < 0:\n",
    "                tn += 1.0\n",
    "            else:\n",
    "                fn += 1.0\n",
    "    \n",
    "    return 2.0 * tp / (2.0 * tp + fp + fn)\n",
    "\n",
    "\n",
    "test_partition = ground_truth['test_eval']\n",
    "for idx in range(0, len(test_partition)):\n",
    "    if np.isnan(test_partition[idx]):\n",
    "        test_partition[idx] = ground_truth['expert'][idx]\n",
    "\n",
    "crowd_ann_quality_f1 = np.zeros(shape=(9, 2))\n",
    "for idx in range(1, 10):\n",
    "    thresh = idx / 10.0\n",
    "    crowd_score = (ground_truth['senrel_score'] >= thresh) * 2 - 1\n",
    "    crowd_ann_quality_f1[idx - 1, 0] = thresh\n",
    "    crowd_ann_quality_f1[idx - 1, 1] = f1_score(crowd_score, test_partition)\n",
    "\n",
    "plt.plot(crowd_ann_quality_f1[:,0], crowd_ann_quality_f1[:,1], color = 'g', lw = 2, label = \"crowd\")\n",
    "plt.xlim(0.1,0.9)\n",
    "\n",
    "plt.axhline(y = f1_score(ground_truth['baseline'].copy(), test_partition),\n",
    "            color = 'darksalmon', lw = 2, label = \"baseline\")\n",
    "plt.axhline(y = f1_score(ground_truth['expert'].copy(),test_partition),\n",
    "            color = 'b', lw = 2, label = \"expert\")\n",
    "plt.axhline(y = f1_score(ground_truth['single'].copy(), test_partition),\n",
    "            color = 'purple', lw = 2, label = \"single\")\n",
    "\n",
    "max_thresh = np.argmax(crowd_ann_quality_f1[:, 1])\n",
    "plt.axvline(x = crowd_ann_quality_f1[max_thresh, 0], color = 'r', ls = ':')\n",
    "plt.axhline(y = crowd_ann_quality_f1[max_thresh, 1], color = 'r', ls = ':')\n",
    "\n",
    "plt.ylabel('annotation quality F1 score')\n",
    "plt.xlabel('neg/pos sentence-relation score')\n",
    "plt.legend(bbox_to_anchor=(1.05, 1), loc=2, borderaxespad=0.)"
   ]
  },
  {
   "cell_type": "code",
   "execution_count": null,
   "metadata": {
    "collapsed": true
   },
   "outputs": [],
   "source": []
  }
 ],
 "metadata": {
  "kernelspec": {
   "display_name": "Python 2",
   "language": "python",
   "name": "python2"
  },
  "language_info": {
   "codemirror_mode": {
    "name": "ipython",
    "version": 2
   },
   "file_extension": ".py",
   "mimetype": "text/x-python",
   "name": "python",
   "nbconvert_exporter": "python",
   "pygments_lexer": "ipython2",
   "version": "2.7.10"
  }
 },
 "nbformat": 4,
 "nbformat_minor": 0
}
